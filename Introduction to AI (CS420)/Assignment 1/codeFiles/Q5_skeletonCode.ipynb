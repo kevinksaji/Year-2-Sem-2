{
  "nbformat": 4,
  "nbformat_minor": 0,
  "metadata": {
    "kernelspec": {
      "display_name": "Python 3",
      "name": "python3"
    },
    "language_info": {
      "codemirror_mode": {
        "name": "ipython",
        "version": 3
      },
      "file_extension": ".py",
      "mimetype": "text/x-python",
      "name": "python",
      "nbconvert_exporter": "python",
      "pygments_lexer": "ipython3",
      "version": "3.6.2"
    },
    "colab": {
      "provenance": [],
      "gpuType": "T4"
    },
    "accelerator": "GPU"
  },
  "cells": [
    {
      "cell_type": "code",
      "metadata": {
        "id": "f3wXL7ChhHdE",
        "colab": {
          "base_uri": "https://localhost:8080/"
        },
        "outputId": "ccceeab5-9793-41c9-af87-6e9546e2e23b"
      },
      "source": [
        "#from __future__ import absolute_import, division, print_function, unicode_literals\n",
        "import csv\n",
        "import math\n",
        "from tensorflow import keras\n",
        "\n",
        "\n",
        "import cv2\n",
        "import numpy as np\n",
        "from keras import Model\n",
        "from keras.applications.mobilenet_v2 import MobileNetV2, preprocess_input\n",
        "from keras.layers import MaxPooling2D, Conv2D, Reshape, Dense, Flatten\n",
        "import tensorflow as tf\n",
        "from keras.datasets import cifar10\n",
        "import sys\n",
        "import matplotlib.pyplot as plt\n",
        "print(tf.__version__)\n",
        "#print(tf.keras.__version__)\n",
        "\n",
        "#testing the GPU\n",
        "device_name = tf.test.gpu_device_name()\n",
        "if device_name != '/device:GPU:0':\n",
        "  raise SystemError('GPU device not found')\n",
        "print('Found GPU at: {}'.format(device_name))"
      ],
      "execution_count": 1,
      "outputs": [
        {
          "output_type": "stream",
          "name": "stdout",
          "text": [
            "2.15.0\n",
            "Found GPU at: /device:GPU:0\n"
          ]
        }
      ]
    },
    {
      "cell_type": "markdown",
      "metadata": {
        "id": "ZMtaw6kVhHdJ"
      },
      "source": [
        "### Import Dataset"
      ]
    },
    {
      "cell_type": "code",
      "metadata": {
        "id": "v9RqMF3hhHdJ"
      },
      "source": [
        "# Class names for different classes\n",
        "class_names = ['airplane', 'automobile', 'bird', 'cat', 'deer','dog', 'frog', 'horse', 'ship', 'truck']\n",
        "\n",
        "# Load training data, labels; and testing data and their true labels\n",
        "(train_images, train_labels), (test_images, test_labels) = cifar10.load_data()\n",
        "print ('Training data seize:', train_images.shape, 'Test data size', test_images.shape)\n",
        "\n",
        "# Normalize pixel values between -1 and 1 [you can normalize between 0 and 1 also]\n",
        "train_images = train_images / 127.5 - 1\n",
        "test_images = test_images / 127.5 - 1"
      ],
      "execution_count": null,
      "outputs": []
    },
    {
      "cell_type": "markdown",
      "metadata": {
        "id": "F82ZGbcehHdK"
      },
      "source": [
        "### Visualize dataset"
      ]
    },
    {
      "cell_type": "code",
      "metadata": {
        "id": "XqBtlR42hHdK"
      },
      "source": [
        "%matplotlib inline\n",
        "#Show first 25 training images below\n",
        "plt.figure(figsize=(10,10))\n",
        "for i in range(25):\n",
        "    plt.subplot(5,5,i+1)\n",
        "    plt.xticks([])\n",
        "    plt.yticks([])\n",
        "    plt.grid(False)\n",
        "    plt.imshow(train_images[i], cmap=plt.cm.binary)\n",
        "    plt.xlabel(class_names[train_labels[i][0]])"
      ],
      "execution_count": null,
      "outputs": []
    },
    {
      "cell_type": "markdown",
      "metadata": {
        "id": "LpLF6OTMhHdK"
      },
      "source": [
        "### Resize images for use with MobileNetV2"
      ]
    },
    {
      "cell_type": "code",
      "metadata": {
        "collapsed": true,
        "id": "qxmpUIAZhHdK"
      },
      "source": [
        "# Upsize all training and testing images to 96x96 for use with mobile net\n",
        "minSize = 96 #minimum size requried for mobileNetV2\n",
        "# You may use cv2 package. Look for function:\n",
        "#\"cv2.resize(<originalImage>, dsize=(minSize, minSize), interpolation=cv2.INTER_AREA)\"\n",
        "# resize train image: You can first initialize a numpy array resized_train_images to store all the resized training images\n",
        "resized_train_images = np.zeros((50000, minSize, minSize, 3), dtype=np.float32)\n",
        "# <Write code for resizing>\n",
        "\n",
        "# resize test image: You can first initialize a numpy array resized_test_images to store all the resized test images\n",
        "resized_test_images = np.zeros((10000, minSize, minSize, 3), dtype=np.float32)\n",
        "# <Write code for resizing>"
      ],
      "execution_count": null,
      "outputs": []
    },
    {
      "cell_type": "markdown",
      "metadata": {
        "id": "oQd9E-HthHdL"
      },
      "source": [
        "### Download MobileNetV2 model\n",
        "\n"
      ]
    },
    {
      "cell_type": "code",
      "metadata": {
        "collapsed": true,
        "scrolled": false,
        "id": "FxhGHC6shHdL"
      },
      "source": [
        "#<Write code for downloading MobileNetV2>\n"
      ],
      "execution_count": null,
      "outputs": []
    },
    {
      "cell_type": "markdown",
      "metadata": {
        "id": "oRr8E0yOhHdL"
      },
      "source": [
        "### Add custom layers at the end of downloaded model"
      ]
    },
    {
      "cell_type": "code",
      "metadata": {
        "collapsed": true,
        "id": "l5yRkggFhHdL"
      },
      "source": [
        "#<Write code for adding custom layers>\n"
      ],
      "execution_count": null,
      "outputs": []
    },
    {
      "cell_type": "markdown",
      "metadata": {
        "id": "ZFxL2Mk8hHdM"
      },
      "source": [
        "### Add loss function, compile and train the model, and check accuracy on test data"
      ]
    },
    {
      "cell_type": "code",
      "metadata": {
        "collapsed": true,
        "id": "62bq83kKhHdM"
      },
      "source": [
        "#<Write code>"
      ],
      "execution_count": null,
      "outputs": []
    },
    {
      "cell_type": "markdown",
      "metadata": {
        "id": "Z8HuDLIIhHdM"
      },
      "source": [
        "### Extra code for producing different plots"
      ]
    },
    {
      "cell_type": "code",
      "metadata": {
        "collapsed": true,
        "id": "grsZI6rthHdM"
      },
      "source": [],
      "execution_count": null,
      "outputs": []
    }
  ]
}